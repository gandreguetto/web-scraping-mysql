{
 "cells": [
  {
   "cell_type": "markdown",
   "id": "a3aa679b",
   "metadata": {},
   "source": [
    "# Web Scraping e base de dados MySql utilizando o Python"
   ]
  },
  {
   "cell_type": "markdown",
   "id": "fd41b1e0",
   "metadata": {},
   "source": [
    "## Sobre o projeto\n",
    "\n",
    "Nesse projeto, as bibliotecas Requests e BeautifulSoup do Python são utilizadas para coletar informações dos livros mais vendidos no site das Livrarias Cultura. Um DataFrame é então criado contendo os títulos, categorias, autores e preços dos livros.\n",
    "\n",
    "Em seguida, uma base de dados MySql é criada com as informações coletadas. Nessa etapa, o driver MySql Connector do Python é utilizado para conectar na base de dados. \n",
    "\n",
    "A base criada é composta por 3 tabelas: livros_preços, autores e categorias. Os relacionamentos são definidos de tal maneira que a tabela de títulos e preços faz referência às tabelas de autores e categorias.\n",
    "\n",
    "Apesar de bastante simples, esse projeto é um excelente exercício de duas tarefas importantes quando se trabalha com dados: a coleta de dados na web e criação de bancos sql. \n",
    "\n",
    "## Coleta dos dados"
   ]
  },
  {
   "cell_type": "markdown",
   "id": "2a23cdd7",
   "metadata": {},
   "source": [
    "Importação das bibliotecas para o Web Scraping"
   ]
  },
  {
   "cell_type": "code",
   "execution_count": 1,
   "id": "cd82a846",
   "metadata": {},
   "outputs": [],
   "source": [
    "# biblioteca para a captura do código html com as informações do site\n",
    "import requests\n",
    "\n",
    "# biblioteca para a coleta das informações dentro do código capturado\n",
    "from bs4 import BeautifulSoup\n",
    "\n",
    "# bibliotecas padrão do python para manipulação dos dados\n",
    "import pandas as pd\n",
    "import numpy as np"
   ]
  },
  {
   "cell_type": "markdown",
   "id": "594708d5",
   "metadata": {},
   "source": [
    "Realizando uma requisição para obter os dados da página "
   ]
  },
  {
   "cell_type": "code",
   "execution_count": 2,
   "id": "9aa8d83a",
   "metadata": {},
   "outputs": [],
   "source": [
    "# endereço da web\n",
    "url = 'https://www3.livrariacultura.com.br/hotsites/maisvendidos'\n",
    "\n",
    "# obtendo as informações da página\n",
    "response = requests.get(url)"
   ]
  },
  {
   "cell_type": "markdown",
   "id": "65b4952e",
   "metadata": {},
   "source": [
    "Utilizando o BeautifulSoup para coletar os dados do código html"
   ]
  },
  {
   "cell_type": "code",
   "execution_count": 3,
   "id": "b6e579b6",
   "metadata": {},
   "outputs": [],
   "source": [
    "soup = BeautifulSoup(response.content, 'html.parser')"
   ]
  },
  {
   "cell_type": "markdown",
   "id": "8c0b4be8",
   "metadata": {},
   "source": [
    "Coletando os títulos dos livros e as informações dos autores"
   ]
  },
  {
   "cell_type": "code",
   "execution_count": 4,
   "id": "7ae6785a",
   "metadata": {},
   "outputs": [],
   "source": [
    "livros = []\n",
    "autores = []\n",
    "\n",
    "for item in soup.find_all('div', attrs = {'class' : 'prateleiraProduto__informacao'}):\n",
    "    livros.append(item.find('h2').text.strip())\n",
    "    autores.append(item.find('h3').find('li').text)"
   ]
  },
  {
   "cell_type": "markdown",
   "id": "f076a31d",
   "metadata": {},
   "source": [
    "Coletando as categorias"
   ]
  },
  {
   "cell_type": "code",
   "execution_count": 5,
   "id": "c9c5fb37",
   "metadata": {},
   "outputs": [],
   "source": [
    "categorias = []\n",
    "\n",
    "for item in soup.find_all('div', attrs = {'class' : 'prateleiraProduto__informacao__categoria'}): \n",
    "    categorias.append(item.text.strip())"
   ]
  },
  {
   "cell_type": "markdown",
   "id": "b74a5681",
   "metadata": {},
   "source": [
    "Coletando os preços"
   ]
  },
  {
   "cell_type": "code",
   "execution_count": 6,
   "id": "ec974243",
   "metadata": {},
   "outputs": [],
   "source": [
    "precos = []\n",
    "\n",
    "for item in soup.find_all('div', attrs = {'class' : 'prateleiraProduto__informacao__preco'}):\n",
    "    precos.append((item.find('span').text.strip('BRL $').replace(\",\", \".\")))"
   ]
  },
  {
   "cell_type": "markdown",
   "id": "edc72de7",
   "metadata": {},
   "source": [
    "Criando um dataframe com os dados coletados."
   ]
  },
  {
   "cell_type": "code",
   "execution_count": 7,
   "id": "43273073",
   "metadata": {},
   "outputs": [],
   "source": [
    "bestsellers = pd.DataFrame({'livros' : livros,\n",
    "                            'autores': autores,\n",
    "                           'categorias' : categorias,\n",
    "                          'precos' : precos})"
   ]
  },
  {
   "cell_type": "code",
   "execution_count": 8,
   "id": "ca47ae57",
   "metadata": {},
   "outputs": [
    {
     "data": {
      "text/html": [
       "<div>\n",
       "<style scoped>\n",
       "    .dataframe tbody tr th:only-of-type {\n",
       "        vertical-align: middle;\n",
       "    }\n",
       "\n",
       "    .dataframe tbody tr th {\n",
       "        vertical-align: top;\n",
       "    }\n",
       "\n",
       "    .dataframe thead th {\n",
       "        text-align: right;\n",
       "    }\n",
       "</style>\n",
       "<table border=\"1\" class=\"dataframe\">\n",
       "  <thead>\n",
       "    <tr style=\"text-align: right;\">\n",
       "      <th></th>\n",
       "      <th>livros</th>\n",
       "      <th>autores</th>\n",
       "      <th>categorias</th>\n",
       "      <th>precos</th>\n",
       "    </tr>\n",
       "  </thead>\n",
       "  <tbody>\n",
       "    <tr>\n",
       "      <th>0</th>\n",
       "      <td>FAZENDA DOS ANIMAIS (CAPA DURA)</td>\n",
       "      <td>Autor:ORWELL, GEORGE</td>\n",
       "      <td>Literatura Internacional</td>\n",
       "      <td>79.90</td>\n",
       "    </tr>\n",
       "    <tr>\n",
       "      <th>1</th>\n",
       "      <td>A TEMPERATURA ENTRE VOCÊ E EU</td>\n",
       "      <td>Autor:ZEPKA, BRIAN</td>\n",
       "      <td>Ficção Fantasiosa</td>\n",
       "      <td>54.90</td>\n",
       "    </tr>\n",
       "    <tr>\n",
       "      <th>2</th>\n",
       "      <td>FLORES PARA ALGERNON</td>\n",
       "      <td>Autor:KEYES, DANIEL|Tradutor:GEISLER, LUISA</td>\n",
       "      <td>Ficção Cientifica</td>\n",
       "      <td>69.90</td>\n",
       "    </tr>\n",
       "    <tr>\n",
       "      <th>3</th>\n",
       "      <td>AMOR &amp; GELATO</td>\n",
       "      <td>Tradutor:FARO, JOANA|Autor:WELCH, JENNA EVANS</td>\n",
       "      <td>Literatura</td>\n",
       "      <td>54.90</td>\n",
       "    </tr>\n",
       "    <tr>\n",
       "      <th>4</th>\n",
       "      <td>É ASSIM QUE ACABA</td>\n",
       "      <td>Autor:HOOVER, COLLEEN|Tradutor:CATAO, PRISCILA</td>\n",
       "      <td>Romances</td>\n",
       "      <td>49.90</td>\n",
       "    </tr>\n",
       "    <tr>\n",
       "      <th>...</th>\n",
       "      <td>...</td>\n",
       "      <td>...</td>\n",
       "      <td>...</td>\n",
       "      <td>...</td>\n",
       "    </tr>\n",
       "    <tr>\n",
       "      <th>87</th>\n",
       "      <td>O PODER DO HÁBITO</td>\n",
       "      <td>Tradutor:MANTOVANI, RAFAEL|Autor:DUHIGG, CHARLES</td>\n",
       "      <td>Desenvolvimento Profissional</td>\n",
       "      <td>82.90</td>\n",
       "    </tr>\n",
       "    <tr>\n",
       "      <th>88</th>\n",
       "      <td>ESPECIALISTA EM PESSOAS</td>\n",
       "      <td>Autor:BRUNET, TIAGO</td>\n",
       "      <td>Autoajuda</td>\n",
       "      <td>59.90</td>\n",
       "    </tr>\n",
       "    <tr>\n",
       "      <th>89</th>\n",
       "      <td>COMO FAZER AMIGOS E INFLUENCIAR PESSOAS</td>\n",
       "      <td>Autor:CARNEGIE, DALE|Tradutor:ALMEIDA, LIVIA DE</td>\n",
       "      <td>Desenvolvimento Pessoal</td>\n",
       "      <td>54.90</td>\n",
       "    </tr>\n",
       "    <tr>\n",
       "      <th>90</th>\n",
       "      <td>A CORAGEM DE SER IMPERFEITO</td>\n",
       "      <td>Autor:BROWN, BRENE|Tradutor:MACEDO, JOEL</td>\n",
       "      <td>Desenvolvimento Pessoal</td>\n",
       "      <td>44.90</td>\n",
       "    </tr>\n",
       "    <tr>\n",
       "      <th>91</th>\n",
       "      <td>O MILAGRE DA MANHÃ</td>\n",
       "      <td>Tradutor:SCHILD, MARCELO|Autor:ELROD, HAL</td>\n",
       "      <td>Desenvolvimento Pessoal</td>\n",
       "      <td>44.90</td>\n",
       "    </tr>\n",
       "  </tbody>\n",
       "</table>\n",
       "<p>92 rows × 4 columns</p>\n",
       "</div>"
      ],
      "text/plain": [
       "                                     livros   \n",
       "0           FAZENDA DOS ANIMAIS (CAPA DURA)  \\\n",
       "1             A TEMPERATURA ENTRE VOCÊ E EU   \n",
       "2                      FLORES PARA ALGERNON   \n",
       "3                             AMOR & GELATO   \n",
       "4                         É ASSIM QUE ACABA   \n",
       "..                                      ...   \n",
       "87                        O PODER DO HÁBITO   \n",
       "88                  ESPECIALISTA EM PESSOAS   \n",
       "89  COMO FAZER AMIGOS E INFLUENCIAR PESSOAS   \n",
       "90              A CORAGEM DE SER IMPERFEITO   \n",
       "91                       O MILAGRE DA MANHÃ   \n",
       "\n",
       "                                             autores   \n",
       "0                               Autor:ORWELL, GEORGE  \\\n",
       "1                                 Autor:ZEPKA, BRIAN   \n",
       "2        Autor:KEYES, DANIEL|Tradutor:GEISLER, LUISA   \n",
       "3      Tradutor:FARO, JOANA|Autor:WELCH, JENNA EVANS   \n",
       "4     Autor:HOOVER, COLLEEN|Tradutor:CATAO, PRISCILA   \n",
       "..                                               ...   \n",
       "87  Tradutor:MANTOVANI, RAFAEL|Autor:DUHIGG, CHARLES   \n",
       "88                               Autor:BRUNET, TIAGO   \n",
       "89   Autor:CARNEGIE, DALE|Tradutor:ALMEIDA, LIVIA DE   \n",
       "90          Autor:BROWN, BRENE|Tradutor:MACEDO, JOEL   \n",
       "91         Tradutor:SCHILD, MARCELO|Autor:ELROD, HAL   \n",
       "\n",
       "                      categorias precos  \n",
       "0       Literatura Internacional  79.90  \n",
       "1              Ficção Fantasiosa  54.90  \n",
       "2              Ficção Cientifica  69.90  \n",
       "3                     Literatura  54.90  \n",
       "4                       Romances  49.90  \n",
       "..                           ...    ...  \n",
       "87  Desenvolvimento Profissional  82.90  \n",
       "88                     Autoajuda  59.90  \n",
       "89       Desenvolvimento Pessoal  54.90  \n",
       "90       Desenvolvimento Pessoal  44.90  \n",
       "91       Desenvolvimento Pessoal  44.90  \n",
       "\n",
       "[92 rows x 4 columns]"
      ]
     },
     "execution_count": 8,
     "metadata": {},
     "output_type": "execute_result"
    }
   ],
   "source": [
    "bestsellers"
   ]
  },
  {
   "cell_type": "markdown",
   "id": "c262c945",
   "metadata": {},
   "source": [
    "## Migração dos dados para uma base MySql\n",
    "\n",
    "### Conectando na base"
   ]
  },
  {
   "cell_type": "code",
   "execution_count": 9,
   "id": "40bdc7c9",
   "metadata": {},
   "outputs": [],
   "source": [
    "# driver do python para conexão com a base mysql\n",
    "import mysql.connector"
   ]
  },
  {
   "cell_type": "code",
   "execution_count": 10,
   "id": "dbbd155f",
   "metadata": {},
   "outputs": [],
   "source": [
    "# conectando na base \"bestsellers_sql\"\n",
    "connection = mysql.connector.connect(\n",
    "            host=\"localhost\",\n",
    "            user=\"root\",\n",
    "            passwd=\"minhasenhadosql\",\n",
    "            database=\"bestsellers_sql\"  \n",
    "        )"
   ]
  },
  {
   "cell_type": "code",
   "execution_count": 11,
   "id": "24acabc0",
   "metadata": {},
   "outputs": [],
   "source": [
    "cursor = connection.cursor()"
   ]
  },
  {
   "cell_type": "markdown",
   "id": "605d36f8",
   "metadata": {},
   "source": [
    "### Criando as tabelas\n",
    "\n",
    "Os dados extraídos serão armazenados em 3 tabelas: livros_precos, autores e categorias. A tabela livros-precos será a tabela principal, fazendo referências para as tabelas \"autores\" e \"categorias\" através de chaves secundárias."
   ]
  },
  {
   "cell_type": "code",
   "execution_count": 12,
   "id": "a929e897",
   "metadata": {},
   "outputs": [],
   "source": [
    "# criando a tabela \"autores\"\n",
    "cursor.execute(\"\"\"CREATE TABLE autores\n",
    "(\n",
    "\tautores_id int unsigned not null auto_increment,\n",
    "    nome_autor varchar(100) not null,\n",
    "    PRIMARY KEY (autores_id)\n",
    ");\"\"\"\n",
    ")"
   ]
  },
  {
   "cell_type": "code",
   "execution_count": 13,
   "id": "a5dd8b95",
   "metadata": {},
   "outputs": [],
   "source": [
    "# criando a tabela \"categorias\"\n",
    "cursor.execute(\"\"\"CREATE TABLE categorias\n",
    "(\n",
    "\tcategorias_id int unsigned not null auto_increment,\n",
    "    categoria varchar(50) not null,\n",
    "    PRIMARY KEY (categorias_id)\n",
    ");\"\"\"\n",
    ")"
   ]
  },
  {
   "cell_type": "code",
   "execution_count": 16,
   "id": "93d97a97",
   "metadata": {},
   "outputs": [],
   "source": [
    "# criando a tabela \"livros-precos\"\n",
    "cursor.execute(\"\"\"CREATE TABLE livros_precos\n",
    "(\n",
    "\tlivros_id int unsigned not null auto_increment,\n",
    "    titulo varchar(100) not null,\n",
    "    autor_id int unsigned not null,\n",
    "    categoria_id int unsigned not null,\n",
    "    preco double,\n",
    "    PRIMARY KEY (livros_id),\n",
    "    FOREIGN KEY (autor_id) REFERENCES autores(autores_id),\n",
    "    FOREIGN KEY (categoria_id) REFERENCES categorias(categorias_id)        \n",
    ");\"\"\"\n",
    ")"
   ]
  },
  {
   "cell_type": "markdown",
   "id": "6d691284",
   "metadata": {},
   "source": [
    "### Inserindo os dados nas tabelas"
   ]
  },
  {
   "cell_type": "markdown",
   "id": "cffbf7f5",
   "metadata": {},
   "source": [
    "Inicialmente a tabela de autores é preenchida. Como existem autores com mais de um livro na lista, o comando \"unique\" é utilizado para que não existam registros duplicados."
   ]
  },
  {
   "cell_type": "code",
   "execution_count": 19,
   "id": "a908e09c",
   "metadata": {},
   "outputs": [],
   "source": [
    "# garante que os índices da tabela \"autores\" se iniciem no valor 1 \n",
    "cursor.execute(\"\"\"ALTER TABLE autores AUTO_INCREMENT=1;\"\"\")\n",
    "\n",
    "# comando sql para a inserção de valores na tabela \"autores\"\n",
    "sql = \"INSERT INTO autores (nome_autor) VALUES (%s);\"\n",
    "\n",
    "# gerando uma tupla a partir da coluna \"autores\" do pandas dataframe\n",
    "val = tuple(zip(bestsellers['autores'].unique()))\n",
    "\n",
    "# executando o comando de inserção de múltiplos valores\n",
    "cursor.executemany(sql, val)\n",
    "\n",
    "# confirmando a execução da inserção\n",
    "connection.commit()"
   ]
  },
  {
   "cell_type": "markdown",
   "id": "b54cc896",
   "metadata": {},
   "source": [
    "A seguir, a tabela \"categorias\" é preenchida. Novamente o comando \"unique\" é utilizado para eliminar categorias repetidas."
   ]
  },
  {
   "cell_type": "code",
   "execution_count": 18,
   "id": "e3a39194",
   "metadata": {},
   "outputs": [],
   "source": [
    "# garante que os índices da tabela \"categoria\" se iniciem no valor 1 \n",
    "cursor.execute(\"\"\"ALTER TABLE categorias AUTO_INCREMENT=1;\"\"\")\n",
    "\n",
    "# comando sql para a inserção de valores na tabela \"categorias\"\n",
    "sql = \"INSERT INTO categorias (categoria) VALUES (%s);\"\n",
    "\n",
    "# gerando uma tupla a partir da coluna \"autores\" do pandas dataframe\n",
    "val = tuple(zip(bestsellers['categorias'].unique()))\n",
    "\n",
    "# executando o comando de inserção de múltiplos valores\n",
    "cursor.executemany(sql, val)\n",
    "\n",
    "# confirmando a execução da inserção\n",
    "connection.commit()"
   ]
  },
  {
   "cell_type": "markdown",
   "id": "4c06670d",
   "metadata": {},
   "source": [
    "Para o preenchimento da tabela \"livros_precos\" será necessário identificar os id's correspondentes dos autores e categorias. \n",
    "\n",
    "Abaixo, os nomes únicos dos autores do dataframe são capturados e, em seguida, os id's são identificados."
   ]
  },
  {
   "cell_type": "code",
   "execution_count": 21,
   "id": "3135d449",
   "metadata": {},
   "outputs": [],
   "source": [
    "# nomes únicos dos autores\n",
    "autores = bestsellers['autores'].unique() "
   ]
  },
  {
   "cell_type": "code",
   "execution_count": 22,
   "id": "310e0b97",
   "metadata": {},
   "outputs": [],
   "source": [
    "# identificando os id's dos autores\n",
    "\n",
    "# lista para guardar os valores de id\n",
    "autor_id = []\n",
    "\n",
    "# percorre os nomes dos autores no dataframe e adiciona o valor do id na lista \"autor_id\"\n",
    "for nome in bestsellers['autores']:\n",
    "    idx = np.where(autores == nome)[0][0]\n",
    "    autor_id.append(int(idx+1))"
   ]
  },
  {
   "cell_type": "markdown",
   "id": "3cc5785b",
   "metadata": {},
   "source": [
    "Um procedimento semelhante é agora realizado para a identificação dos id's das categorias."
   ]
  },
  {
   "cell_type": "code",
   "execution_count": 24,
   "id": "b3cd2f52",
   "metadata": {},
   "outputs": [],
   "source": [
    "# nomes únicos das categorias\n",
    "categorias = bestsellers['categorias'].unique() "
   ]
  },
  {
   "cell_type": "code",
   "execution_count": 25,
   "id": "497ac364",
   "metadata": {},
   "outputs": [],
   "source": [
    "# identificando os id's das categorias\n",
    "\n",
    "# lista para guardar os valores de id\n",
    "categoria_id = []\n",
    "\n",
    "# percorre os nomes das categorias no dataframe e adiciona o valor do id nas lista \"categoria_id\"\n",
    "for classe in bestsellers['categorias']:\n",
    "    idx = np.where(categorias == classe)[0][0]\n",
    "    categoria_id.append(int(idx+1))"
   ]
  },
  {
   "cell_type": "markdown",
   "id": "cbcb45fe",
   "metadata": {},
   "source": [
    "Por fim, os valores da tabela \"livros_precos\" são agora preenchidos."
   ]
  },
  {
   "cell_type": "code",
   "execution_count": 26,
   "id": "8b043d12",
   "metadata": {},
   "outputs": [],
   "source": [
    "# comando sql para a inserção de valores na tabela \"livros_precos\"\n",
    "sql = \"INSERT INTO livros_precos (titulo, autor_id, categoria_id, preco) VALUES (%s, %s, %s, %s);\"\n",
    "\n",
    "# gerando uma tupla com os dados para serem inseridos na tabela\n",
    "val = tuple(zip(bestsellers['livros'], autor_id, categoria_id, bestsellers['precos']))\n",
    "\n",
    "# executando o comando de inserção de múltiplos valores\n",
    "cursor.executemany(sql, val)\n",
    "\n",
    "# confirmando a execução da inserção\n",
    "connection.commit()"
   ]
  }
 ],
 "metadata": {
  "kernelspec": {
   "display_name": "Python 3 (ipykernel)",
   "language": "python",
   "name": "python3"
  },
  "language_info": {
   "codemirror_mode": {
    "name": "ipython",
    "version": 3
   },
   "file_extension": ".py",
   "mimetype": "text/x-python",
   "name": "python",
   "nbconvert_exporter": "python",
   "pygments_lexer": "ipython3",
   "version": "3.10.6"
  }
 },
 "nbformat": 4,
 "nbformat_minor": 5
}
